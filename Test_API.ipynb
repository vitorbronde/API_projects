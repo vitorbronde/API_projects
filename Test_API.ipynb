{
 "cells": [
  {
   "cell_type": "code",
   "execution_count": 1,
   "id": "e73c467e",
   "metadata": {},
   "outputs": [],
   "source": [
    "import pandas as pd\n",
    "import requests"
   ]
  },
  {
   "cell_type": "markdown",
   "id": "662c5246",
   "metadata": {},
   "source": [
    "### Question 1"
   ]
  },
  {
   "cell_type": "code",
   "execution_count": null,
   "id": "3c1e6b50",
   "metadata": {},
   "outputs": [],
   "source": [
    "number_per_pages = int(input(\"select the number of pages: \"))\n",
    "\n",
    "url= 'https://reqres.in/api/users?'\n",
    "\n",
    "parameters={\n",
    "    'per_page': number_per_pages,\n",
    "}\n",
    "\n",
    "api = requests.get(url , params=parameters)\n",
    "dictionary = api.json()\n",
    "\n",
    "parameters2={\n",
    "    'page'  : dictionary['total_pages'] ,\n",
    "    'per_page': number_per_pages,\n",
    "}\n",
    "\n",
    "api = requests.get(url , params=parameters2)\n",
    "dictionary2 = api.json()\n",
    "\n",
    "\n",
    "base1 , base2 = pd.json_normalize(dictionary['data']) , pd.json_normalize(dictionary2['data'])\n",
    "base1 , base2 = pd.DataFrame(data =base1) , pd.DataFrame(data =base2)\n",
    "\n",
    "final_base  = pd.concat([base1 , base2]).reset_index()\n",
    "file_name = input(\"Define the file´s name: \")\n",
    "final_base.to_csv(file_name, index=False)\n"
   ]
  },
  {
   "cell_type": "markdown",
   "id": "e8e4ad65",
   "metadata": {},
   "source": [
    "### Question 2"
   ]
  },
  {
   "cell_type": "code",
   "execution_count": 266,
   "id": "84208e5a",
   "metadata": {},
   "outputs": [
    {
     "name": "stdout",
     "output_type": "stream",
     "text": [
      "Chose the user ID : 15\n"
     ]
    }
   ],
   "source": [
    "user_id = int(input(\"Chose the user ID : \", ))"
   ]
  },
  {
   "cell_type": "code",
   "execution_count": 267,
   "id": "9d7fb4b7",
   "metadata": {},
   "outputs": [
    {
     "name": "stdout",
     "output_type": "stream",
     "text": [
      "unidentified user, please try again \n"
     ]
    }
   ],
   "source": [
    "if user_id in range(11):\n",
    "    url= 'https://reqres.in/api/users?'\n",
    "    parameters={\n",
    "       'id': user_id,\n",
    "        }\n",
    "    api = requests.get(url , params=parameters)\n",
    "    dictionary = api.json()\n",
    "    df_nested_list = pd.json_normalize(dictionary['data'])\n",
    "    df_nested_list = pd.DataFrame(data =df_nested_list)\n",
    "    first_name ,last_name   = str(df_nested_list['first_name'].values) , str(df_nested_list['last_name'].values)\n",
    "    first_name , last_name  = first_name.replace(\"'\",\"\") , last_name.replace(\"'\",\"\")\n",
    "    first_name , last_name  = first_name.strip('[]') , last_name.strip('[]')\n",
    "    Name = first_name+' '+last_name \n",
    "    print(Name)\n",
    "else:\n",
    "    print(\"Unidentified user, please try again \")"
   ]
  }
 ],
 "metadata": {
  "kernelspec": {
   "display_name": "Python 3",
   "language": "python",
   "name": "python3"
  },
  "language_info": {
   "codemirror_mode": {
    "name": "ipython",
    "version": 3
   },
   "file_extension": ".py",
   "mimetype": "text/x-python",
   "name": "python",
   "nbconvert_exporter": "python",
   "pygments_lexer": "ipython3",
   "version": "3.8.8"
  }
 },
 "nbformat": 4,
 "nbformat_minor": 5
}
